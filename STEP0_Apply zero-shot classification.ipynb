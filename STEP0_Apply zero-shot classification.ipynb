{
 "cells": [
  {
   "cell_type": "code",
   "execution_count": null,
   "id": "083e7e9a-eeb0-4642-abdf-8797cde85076",
   "metadata": {},
   "outputs": [],
   "source": [
    "#++++++++++++++++++++++++++++++++++++++++++++++++++++++++++++++++++++++++++++++++++++++++++++#\n",
    "# PRT820: THE INFLUENCE OF POST-PUBLICATION CORRESPONDENCE ON RESEARCH PAPERS                #\n",
    "# STUDENT: ANNE TA - S359453                                                                 #\n",
    "# Code Objective: Using Zero-Shot Classification to categorize PPC topics                    #\n",
    "#++++++++++++++++++++++++++++++++++++++++++++++++++++++++++++++++++++++++++++++++++++++++++++#"
   ]
  },
  {
   "cell_type": "code",
   "execution_count": 3,
   "id": "510669b8-e7ec-4e56-b596-a6dbbea841a0",
   "metadata": {},
   "outputs": [],
   "source": [
    "#-------------------------------------------------------------\n",
    "# DEFINE BASIC FUNCTION FOR THE READING DATA FROM FILE\n",
    "#-------------------------------------------------------------\n",
    "import pandas as pd\n",
    "#=======================================\n",
    "# Define global variables for file path\n",
    "#=======================================\n",
    "def get_var(var_name):\n",
    "    variable_filename = \"variable/variable.txt\"\n",
    "    # Read the text file\n",
    "    with open(variable_filename, 'r') as file:\n",
    "        lines = file.readlines()\n",
    "\n",
    "    # Initialize a dictionary to store the variables\n",
    "    variables = {}\n",
    "\n",
    "    # Process each line in the file\n",
    "    for line in lines:\n",
    "        # Split each line into variable name and value\n",
    "        parts = line.strip().split(',')\n",
    "        if len(parts) == 2:\n",
    "            # Store the variable name and value in the dictionary\n",
    "            variables[parts[0].strip()] = parts[1].strip()\n",
    "\n",
    "    return variables[var_name]\n",
    "\n",
    "#================================================================\n",
    "# Define a function to read data from a CSV file into a DataFrame\n",
    "#================================================================\n",
    "def read_csv(filename, ec='ISO-8859-1'):\n",
    "    try:\n",
    "        # Load CSV data into DataFrame\n",
    "        data_df = pd.read_csv(filename, encoding=ec)\n",
    "        return data_df\n",
    "    \n",
    "    # Handle the case where the file is not found\n",
    "    except FileNotFoundError:\n",
    "        print(\"File not found. Please check the file path.\")\n",
    "        \n",
    "    # Handle any other exceptions that might occur during reading the CSV file\n",
    "    except Exception as e:\n",
    "        print(\"An error occurred:\", e)"
   ]
  },
  {
   "cell_type": "code",
   "execution_count": null,
   "id": "a34350e9-a91a-440b-be4b-91702ccf65ce",
   "metadata": {},
   "outputs": [],
   "source": [
    "from transformers import pipeline\n",
    "import pandas as pd\n",
    "import re\n",
    "\n",
    "# Initialize the pipeline classification based on mode facebook/bart-large-mnli\n",
    "classifier = pipeline(\"zero-shot-classification\", model=\"facebook/bart-large-mnli\")\n",
    "\n"
   ]
  },
  {
   "cell_type": "code",
   "execution_count": 6,
   "id": "a7e38ad8-29b6-4973-97c8-9d1c0be865da",
   "metadata": {},
   "outputs": [
    {
     "name": "stdout",
     "output_type": "stream",
     "text": [
      "Count records:  300\n",
      "After removing duplication:  300\n"
     ]
    }
   ],
   "source": [
    "# Get file path of raw data\n",
    "raw_data_filepath = get_var('raw_data_filepath')\n",
    "# Read file paths from a CSV file into a DataFrame\n",
    "ppc_article_df = read_csv(raw_data_filepath)\n",
    "ppc_df = ppc_article_df.copy()\n",
    "ppc_df = ppc_df[['PPC_DOI', 'Year', 'Abstract']]\n",
    "ppc_df.columns = ['DOI', 'PPC_Year', 'Abstract']\n",
    "print(\"Count records: \", len(ppc_df))\n",
    "ppc_df = ppc_df.drop_duplicates()\n",
    "print(\"After removing duplication: \", len(ppc_df))\n"
   ]
  },
  {
   "cell_type": "code",
   "execution_count": null,
   "id": "de9e2493-6884-416b-8a3a-61f553507d35",
   "metadata": {},
   "outputs": [],
   "source": [
    "import concurrent.futures\n",
    "\n",
    "# Use 'ID' and 'sequence' columns for classification\n",
    "ids_and_sequences = zip(ppc_df['DOI'].tolist(), ppc_df['PPC_Year'].tolist(), ppc_df['Abstract'].tolist())\n",
    "\n",
    "# Define candidate labels\n",
    "candidate_labels = ['agree', 'disagree', 'clarification', 'question', 'recommendation']\n",
    "\n",
    "# Function to exclude text starting with \"©\"\n",
    "def exclude_copyright(text):\n",
    "    return re.sub(r'©.*$', '', text)\n",
    "\n",
    "# Function to classify sequences\n",
    "def classify_sequence(doi, title, sequence_to_classify):\n",
    "    sequence_to_classify = exclude_copyright(sequence_to_classify)\n",
    "    outputs = classifier(sequence_to_classify, candidate_labels)\n",
    "    label_scores = dict(zip(outputs['labels'], outputs['scores']))\n",
    "    label_scores['DOI'] = doi\n",
    "    label_scores['PPC_Year'] = title\n",
    "    label_scores['Abstract'] = sequence_to_classify\n",
    "    return label_scores\n",
    "\n",
    "# Classify sequences using multithreading\n",
    "results = []\n",
    "with concurrent.futures.ThreadPoolExecutor() as executor:\n",
    "    future_to_doi_title_seq = {executor.submit(classify_sequence, doi, title, seq): (doi, title, seq) for doi, title, seq in ids_and_sequences}\n",
    "    for future in concurrent.futures.as_completed(future_to_doi_title_seq):\n",
    "        doi, title, sequence = future_to_doi_title_seq[future]\n",
    "        try:\n",
    "            label_scores = future.result()\n",
    "            results.append(label_scores)\n",
    "        except Exception as e:\n",
    "            print(f\"Failed to classify sequence for {doi}: {e}\")\n",
    "\n",
    "# Create a DataFrame from the results\n",
    "final_df = pd.DataFrame(results)\n",
    "\n",
    "# Reorder columns to match the desired structure\n",
    "final_df = final_df[['DOI', 'PPC_Year', 'Abstract', 'agree', 'clarification', 'question', 'recommendation', 'disagree']]\n",
    "\n",
    "# Store the final results to a CSV file\n",
    "final_df.to_csv(\"result/ppc_abstract_topic.csv\", index=False)"
   ]
  },
  {
   "cell_type": "code",
   "execution_count": null,
   "id": "fe722278-86d6-46c1-b1bd-eb0f7d7c7746",
   "metadata": {},
   "outputs": [],
   "source": []
  }
 ],
 "metadata": {
  "kernelspec": {
   "display_name": "Python 3 (ipykernel)",
   "language": "python",
   "name": "python3"
  },
  "language_info": {
   "codemirror_mode": {
    "name": "ipython",
    "version": 3
   },
   "file_extension": ".py",
   "mimetype": "text/x-python",
   "name": "python",
   "nbconvert_exporter": "python",
   "pygments_lexer": "ipython3",
   "version": "3.12.4"
  }
 },
 "nbformat": 4,
 "nbformat_minor": 5
}
