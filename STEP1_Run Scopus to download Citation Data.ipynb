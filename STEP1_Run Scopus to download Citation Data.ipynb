{
 "cells": [
  {
   "cell_type": "code",
   "execution_count": null,
   "id": "083e7e9a-eeb0-4642-abdf-8797cde85076",
   "metadata": {},
   "outputs": [],
   "source": [
    "#++++++++++++++++++++++++++++++++++++++++++++++++++++++++++++++++++++++++++++++++++++++++++++#\n",
    "# PRT820: THE INFLUENCE OF POST-PUBLICATION CORRESPONDENCE ON RESEARCH PAPERS                #\n",
    "# STUDENT: ANNE TA - S359453                                                                 #\n",
    "# Code Objective: Using Zero-Shot Classification to categorize PPC topics                    #\n",
    "#++++++++++++++++++++++++++++++++++++++++++++++++++++++++++++++++++++++++++++++++++++++++++++#"
   ]
  },
  {
   "cell_type": "code",
   "execution_count": 1,
   "id": "510669b8-e7ec-4e56-b596-a6dbbea841a0",
   "metadata": {},
   "outputs": [],
   "source": [
    "#-------------------------------------------------------------\n",
    "# DEFINE BASIC FUNCTION FOR THE READING DATA FROM FILE\n",
    "#-------------------------------------------------------------\n",
    "import pandas as pd\n",
    "#=======================================\n",
    "# Define global variables for file path\n",
    "#=======================================\n",
    "def get_var(var_name):\n",
    "    variable_filename = \"variable/variable.txt\"\n",
    "    # Read the text file\n",
    "    with open(variable_filename, 'r') as file:\n",
    "        lines = file.readlines()\n",
    "\n",
    "    # Initialize a dictionary to store the variables\n",
    "    variables = {}\n",
    "\n",
    "    # Process each line in the file\n",
    "    for line in lines:\n",
    "        # Split each line into variable name and value\n",
    "        parts = line.strip().split(',')\n",
    "        if len(parts) == 2:\n",
    "            # Store the variable name and value in the dictionary\n",
    "            variables[parts[0].strip()] = parts[1].strip()\n",
    "\n",
    "    return variables[var_name]\n",
    "\n",
    "#================================================================\n",
    "# Define a function to read data from a CSV file into a DataFrame\n",
    "#================================================================\n",
    "def read_csv(filename, ec='ISO-8859-1'):\n",
    "    try:\n",
    "        # Load CSV data into DataFrame\n",
    "        data_df = pd.read_csv(filename, encoding=ec)\n",
    "        return data_df\n",
    "    \n",
    "    # Handle the case where the file is not found\n",
    "    except FileNotFoundError:\n",
    "        print(\"File not found. Please check the file path.\")\n",
    "        \n",
    "    # Handle any other exceptions that might occur during reading the CSV file\n",
    "    except Exception as e:\n",
    "        print(\"An error occurred:\", e)"
   ]
  },
  {
   "cell_type": "code",
   "execution_count": null,
   "id": "be77c018-fb9a-4587-ba56-11a926b2ebb1",
   "metadata": {},
   "outputs": [
    {
     "name": "stdout",
     "output_type": "stream",
     "text": [
      "1973-2024\n"
     ]
    }
   ],
   "source": [
    "#-------------------------------------------------------------\n",
    "# PULL CITATION DATA BY USING SCOPUS API\n",
    "#-------------------------------------------------------------\n",
    "import pandas as pd\n",
    "import pybliometrics\n",
    "from pybliometrics.scopus import CitationOverview\n",
    "# Initialize the library of Scopus Bliometric\n",
    "pybliometrics.scopus.init()\n",
    "\n",
    "\n",
    "#====================================================================\n",
    "# Process citation data for Original Articles\n",
    "#====================================================================\n",
    "# Get file path of raw data\n",
    "raw_data_filepath = get_var('raw_data_filepath')\n",
    "\n",
    "# Read file paths from a CSV file into a DataFrame\n",
    "ppc_article_df = read_csv(raw_data_filepath)\n",
    "\n",
    "# Extract the DOI_OA column\n",
    "doi_list = ppc_article_df['DOI_OA'].unique()\n",
    "min_year_OA = ppc_article_df['Year_OA'].min()\n",
    "timespan = str(min_year_OA) + \"-2024\"\n",
    "print(timespan)\n",
    "\n",
    "\n",
    "# Initialize an empty list to store the results\n",
    "results = []\n",
    "\n",
    "# Loop through each OA DOI and get the citation overview\n",
    "for doi in doi_list:\n",
    "    co = CitationOverview([doi], id_type='doi', date=timespan)\n",
    "    \n",
    "    # co.cc contains a list of tuples with (Year, CitationCount)\n",
    "    for year, citation_count in co.cc[0]:  # co.cc is a nested list, so we access the first element [0]\n",
    "        results.append({'Year': year, 'CitationCount': citation_count, 'DOI_OA': doi})\n",
    "\n",
    "# Create a DataFrame from the results\n",
    "citation_df = pd.DataFrame(results)\n",
    "# print(citation_df)\n",
    "\n",
    "\n",
    "# Get file path of to store the original article's citation data\n",
    "article_citation_filepath = get_var('article_citation_filepath')\n",
    "# Save the DataFrame to a CSV file if needed\n",
    "citation_df.to_csv(article_citation_filepath, index=False)"
   ]
  },
  {
   "cell_type": "code",
   "execution_count": null,
   "id": "a34350e9-a91a-440b-be4b-91702ccf65ce",
   "metadata": {},
   "outputs": [],
   "source": []
  }
 ],
 "metadata": {
  "kernelspec": {
   "display_name": "Python 3 (ipykernel)",
   "language": "python",
   "name": "python3"
  },
  "language_info": {
   "codemirror_mode": {
    "name": "ipython",
    "version": 3
   },
   "file_extension": ".py",
   "mimetype": "text/x-python",
   "name": "python",
   "nbconvert_exporter": "python",
   "pygments_lexer": "ipython3",
   "version": "3.12.4"
  }
 },
 "nbformat": 4,
 "nbformat_minor": 5
}
